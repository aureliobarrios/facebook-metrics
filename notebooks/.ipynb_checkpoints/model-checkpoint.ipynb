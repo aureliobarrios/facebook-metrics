{
 "cells": [
  {
   "cell_type": "markdown",
   "id": "61a87952",
   "metadata": {},
   "source": [
    "# Facebook Metrics Modeling\n",
    "\n",
    "So far we have found that most of the attributes in our facebook metrics dataset are positively correlated with each other. This shows us that we should perform some Dimensionality Reduction techniques to get a better understanding of some of the core features/attributes that affect the total interactions of a facebook post. \n",
    "\n",
    "## Goal\n",
    "\n",
    "The goal for this project is to answer the following question:\n",
    "\n",
    "    What Facebook metrics should an account focus on if their goal is to increase their total interactions on a post?\n",
    "    \n",
    "This question will be answered by building a regression model that can predict total interactions of a post using dimensionality reduction techniques that choose the best attributes for the model. \n",
    "\n",
    "## Imports"
   ]
  },
  {
   "cell_type": "code",
   "execution_count": 1,
   "id": "05994c92",
   "metadata": {},
   "outputs": [],
   "source": [
    "import numpy as np\n",
    "import pandas as pd\n",
    "import seaborn as sn\n",
    "import matplotlib.pyplot as plt\n",
    "\n",
    "import tensorflow as tf\n",
    "from tensorflow import keras\n",
    "from tensorflow.keras import layers\n",
    "\n",
    "from sklearn import linear_model\n",
    "from sklearn.metrics import mean_absolute_error\n",
    "from sklearn.model_selection import train_test_split"
   ]
  },
  {
   "cell_type": "code",
   "execution_count": 2,
   "id": "482d18f4",
   "metadata": {},
   "outputs": [],
   "source": [
    "df = pd.read_csv('../data/facebook_clean.csv')"
   ]
  },
  {
   "cell_type": "code",
   "execution_count": 3,
   "id": "64c07d38",
   "metadata": {},
   "outputs": [
    {
     "data": {
      "text/html": [
       "<div>\n",
       "<style scoped>\n",
       "    .dataframe tbody tr th:only-of-type {\n",
       "        vertical-align: middle;\n",
       "    }\n",
       "\n",
       "    .dataframe tbody tr th {\n",
       "        vertical-align: top;\n",
       "    }\n",
       "\n",
       "    .dataframe thead th {\n",
       "        text-align: right;\n",
       "    }\n",
       "</style>\n",
       "<table border=\"1\" class=\"dataframe\">\n",
       "  <thead>\n",
       "    <tr style=\"text-align: right;\">\n",
       "      <th></th>\n",
       "      <th>total_likes</th>\n",
       "      <th>type</th>\n",
       "      <th>category</th>\n",
       "      <th>post_month</th>\n",
       "      <th>post_weekday</th>\n",
       "      <th>post_hour</th>\n",
       "      <th>paid</th>\n",
       "      <th>lifetime_reach</th>\n",
       "      <th>lifetime_impressions</th>\n",
       "      <th>lifetime_engaged_users</th>\n",
       "      <th>lifetime_consumers</th>\n",
       "      <th>lifetime_consumptions</th>\n",
       "      <th>impressions_by_likers</th>\n",
       "      <th>reach_by_likers</th>\n",
       "      <th>likers_who_engaged</th>\n",
       "      <th>total_interactions</th>\n",
       "    </tr>\n",
       "  </thead>\n",
       "  <tbody>\n",
       "    <tr>\n",
       "      <th>0</th>\n",
       "      <td>139441</td>\n",
       "      <td>Photo</td>\n",
       "      <td>2</td>\n",
       "      <td>12</td>\n",
       "      <td>4</td>\n",
       "      <td>3</td>\n",
       "      <td>0.0</td>\n",
       "      <td>2752</td>\n",
       "      <td>5091</td>\n",
       "      <td>178</td>\n",
       "      <td>109</td>\n",
       "      <td>159</td>\n",
       "      <td>3078</td>\n",
       "      <td>1640</td>\n",
       "      <td>119</td>\n",
       "      <td>100</td>\n",
       "    </tr>\n",
       "    <tr>\n",
       "      <th>1</th>\n",
       "      <td>139441</td>\n",
       "      <td>Status</td>\n",
       "      <td>2</td>\n",
       "      <td>12</td>\n",
       "      <td>3</td>\n",
       "      <td>10</td>\n",
       "      <td>0.0</td>\n",
       "      <td>10460</td>\n",
       "      <td>19057</td>\n",
       "      <td>1457</td>\n",
       "      <td>1361</td>\n",
       "      <td>1674</td>\n",
       "      <td>11710</td>\n",
       "      <td>6112</td>\n",
       "      <td>1108</td>\n",
       "      <td>164</td>\n",
       "    </tr>\n",
       "    <tr>\n",
       "      <th>2</th>\n",
       "      <td>139441</td>\n",
       "      <td>Photo</td>\n",
       "      <td>3</td>\n",
       "      <td>12</td>\n",
       "      <td>3</td>\n",
       "      <td>3</td>\n",
       "      <td>0.0</td>\n",
       "      <td>2413</td>\n",
       "      <td>4373</td>\n",
       "      <td>177</td>\n",
       "      <td>113</td>\n",
       "      <td>154</td>\n",
       "      <td>2812</td>\n",
       "      <td>1503</td>\n",
       "      <td>132</td>\n",
       "      <td>80</td>\n",
       "    </tr>\n",
       "    <tr>\n",
       "      <th>3</th>\n",
       "      <td>139441</td>\n",
       "      <td>Photo</td>\n",
       "      <td>2</td>\n",
       "      <td>12</td>\n",
       "      <td>2</td>\n",
       "      <td>10</td>\n",
       "      <td>1.0</td>\n",
       "      <td>50128</td>\n",
       "      <td>87991</td>\n",
       "      <td>2211</td>\n",
       "      <td>790</td>\n",
       "      <td>1119</td>\n",
       "      <td>61027</td>\n",
       "      <td>32048</td>\n",
       "      <td>1386</td>\n",
       "      <td>1777</td>\n",
       "    </tr>\n",
       "    <tr>\n",
       "      <th>4</th>\n",
       "      <td>139441</td>\n",
       "      <td>Photo</td>\n",
       "      <td>2</td>\n",
       "      <td>12</td>\n",
       "      <td>2</td>\n",
       "      <td>3</td>\n",
       "      <td>0.0</td>\n",
       "      <td>7244</td>\n",
       "      <td>13594</td>\n",
       "      <td>671</td>\n",
       "      <td>410</td>\n",
       "      <td>580</td>\n",
       "      <td>6228</td>\n",
       "      <td>3200</td>\n",
       "      <td>396</td>\n",
       "      <td>393</td>\n",
       "    </tr>\n",
       "  </tbody>\n",
       "</table>\n",
       "</div>"
      ],
      "text/plain": [
       "   total_likes    type  category  post_month  post_weekday  post_hour  paid  \\\n",
       "0       139441   Photo         2          12             4          3   0.0   \n",
       "1       139441  Status         2          12             3         10   0.0   \n",
       "2       139441   Photo         3          12             3          3   0.0   \n",
       "3       139441   Photo         2          12             2         10   1.0   \n",
       "4       139441   Photo         2          12             2          3   0.0   \n",
       "\n",
       "   lifetime_reach  lifetime_impressions  lifetime_engaged_users  \\\n",
       "0            2752                  5091                     178   \n",
       "1           10460                 19057                    1457   \n",
       "2            2413                  4373                     177   \n",
       "3           50128                 87991                    2211   \n",
       "4            7244                 13594                     671   \n",
       "\n",
       "   lifetime_consumers  lifetime_consumptions  impressions_by_likers  \\\n",
       "0                 109                    159                   3078   \n",
       "1                1361                   1674                  11710   \n",
       "2                 113                    154                   2812   \n",
       "3                 790                   1119                  61027   \n",
       "4                 410                    580                   6228   \n",
       "\n",
       "   reach_by_likers  likers_who_engaged  total_interactions  \n",
       "0             1640                 119                 100  \n",
       "1             6112                1108                 164  \n",
       "2             1503                 132                  80  \n",
       "3            32048                1386                1777  \n",
       "4             3200                 396                 393  "
      ]
     },
     "execution_count": 3,
     "metadata": {},
     "output_type": "execute_result"
    }
   ],
   "source": [
    "df.head()"
   ]
  },
  {
   "cell_type": "code",
   "execution_count": 4,
   "id": "c0947628",
   "metadata": {},
   "outputs": [
    {
     "data": {
      "text/plain": [
       "(495, 16)"
      ]
     },
     "execution_count": 4,
     "metadata": {},
     "output_type": "execute_result"
    }
   ],
   "source": [
    "df.shape"
   ]
  },
  {
   "cell_type": "markdown",
   "id": "4c84fa77",
   "metadata": {},
   "source": [
    "## Data Preparation\n",
    "\n",
    "Before we begin building our model we must prepare our data for the purpose of machine learning model building. This means creating dummy variables for categorical columns like `type`, `category`, `post_month`, `post_weekday`, and `post_hour`."
   ]
  },
  {
   "cell_type": "code",
   "execution_count": 5,
   "id": "31173f37",
   "metadata": {},
   "outputs": [],
   "source": [
    "df = pd.get_dummies(df, columns=['type', 'category', 'post_month', 'post_weekday', 'post_hour'], dtype='int')"
   ]
  },
  {
   "cell_type": "code",
   "execution_count": 6,
   "id": "64f9f619",
   "metadata": {},
   "outputs": [
    {
     "data": {
      "text/html": [
       "<div>\n",
       "<style scoped>\n",
       "    .dataframe tbody tr th:only-of-type {\n",
       "        vertical-align: middle;\n",
       "    }\n",
       "\n",
       "    .dataframe tbody tr th {\n",
       "        vertical-align: top;\n",
       "    }\n",
       "\n",
       "    .dataframe thead th {\n",
       "        text-align: right;\n",
       "    }\n",
       "</style>\n",
       "<table border=\"1\" class=\"dataframe\">\n",
       "  <thead>\n",
       "    <tr style=\"text-align: right;\">\n",
       "      <th></th>\n",
       "      <th>total_likes</th>\n",
       "      <th>paid</th>\n",
       "      <th>lifetime_reach</th>\n",
       "      <th>lifetime_impressions</th>\n",
       "      <th>lifetime_engaged_users</th>\n",
       "      <th>lifetime_consumers</th>\n",
       "      <th>lifetime_consumptions</th>\n",
       "      <th>impressions_by_likers</th>\n",
       "      <th>reach_by_likers</th>\n",
       "      <th>likers_who_engaged</th>\n",
       "      <th>...</th>\n",
       "      <th>post_hour_13</th>\n",
       "      <th>post_hour_14</th>\n",
       "      <th>post_hour_15</th>\n",
       "      <th>post_hour_16</th>\n",
       "      <th>post_hour_17</th>\n",
       "      <th>post_hour_18</th>\n",
       "      <th>post_hour_19</th>\n",
       "      <th>post_hour_20</th>\n",
       "      <th>post_hour_22</th>\n",
       "      <th>post_hour_23</th>\n",
       "    </tr>\n",
       "  </thead>\n",
       "  <tbody>\n",
       "    <tr>\n",
       "      <th>0</th>\n",
       "      <td>139441</td>\n",
       "      <td>0.0</td>\n",
       "      <td>2752</td>\n",
       "      <td>5091</td>\n",
       "      <td>178</td>\n",
       "      <td>109</td>\n",
       "      <td>159</td>\n",
       "      <td>3078</td>\n",
       "      <td>1640</td>\n",
       "      <td>119</td>\n",
       "      <td>...</td>\n",
       "      <td>0</td>\n",
       "      <td>0</td>\n",
       "      <td>0</td>\n",
       "      <td>0</td>\n",
       "      <td>0</td>\n",
       "      <td>0</td>\n",
       "      <td>0</td>\n",
       "      <td>0</td>\n",
       "      <td>0</td>\n",
       "      <td>0</td>\n",
       "    </tr>\n",
       "    <tr>\n",
       "      <th>1</th>\n",
       "      <td>139441</td>\n",
       "      <td>0.0</td>\n",
       "      <td>10460</td>\n",
       "      <td>19057</td>\n",
       "      <td>1457</td>\n",
       "      <td>1361</td>\n",
       "      <td>1674</td>\n",
       "      <td>11710</td>\n",
       "      <td>6112</td>\n",
       "      <td>1108</td>\n",
       "      <td>...</td>\n",
       "      <td>0</td>\n",
       "      <td>0</td>\n",
       "      <td>0</td>\n",
       "      <td>0</td>\n",
       "      <td>0</td>\n",
       "      <td>0</td>\n",
       "      <td>0</td>\n",
       "      <td>0</td>\n",
       "      <td>0</td>\n",
       "      <td>0</td>\n",
       "    </tr>\n",
       "    <tr>\n",
       "      <th>2</th>\n",
       "      <td>139441</td>\n",
       "      <td>0.0</td>\n",
       "      <td>2413</td>\n",
       "      <td>4373</td>\n",
       "      <td>177</td>\n",
       "      <td>113</td>\n",
       "      <td>154</td>\n",
       "      <td>2812</td>\n",
       "      <td>1503</td>\n",
       "      <td>132</td>\n",
       "      <td>...</td>\n",
       "      <td>0</td>\n",
       "      <td>0</td>\n",
       "      <td>0</td>\n",
       "      <td>0</td>\n",
       "      <td>0</td>\n",
       "      <td>0</td>\n",
       "      <td>0</td>\n",
       "      <td>0</td>\n",
       "      <td>0</td>\n",
       "      <td>0</td>\n",
       "    </tr>\n",
       "    <tr>\n",
       "      <th>3</th>\n",
       "      <td>139441</td>\n",
       "      <td>1.0</td>\n",
       "      <td>50128</td>\n",
       "      <td>87991</td>\n",
       "      <td>2211</td>\n",
       "      <td>790</td>\n",
       "      <td>1119</td>\n",
       "      <td>61027</td>\n",
       "      <td>32048</td>\n",
       "      <td>1386</td>\n",
       "      <td>...</td>\n",
       "      <td>0</td>\n",
       "      <td>0</td>\n",
       "      <td>0</td>\n",
       "      <td>0</td>\n",
       "      <td>0</td>\n",
       "      <td>0</td>\n",
       "      <td>0</td>\n",
       "      <td>0</td>\n",
       "      <td>0</td>\n",
       "      <td>0</td>\n",
       "    </tr>\n",
       "    <tr>\n",
       "      <th>4</th>\n",
       "      <td>139441</td>\n",
       "      <td>0.0</td>\n",
       "      <td>7244</td>\n",
       "      <td>13594</td>\n",
       "      <td>671</td>\n",
       "      <td>410</td>\n",
       "      <td>580</td>\n",
       "      <td>6228</td>\n",
       "      <td>3200</td>\n",
       "      <td>396</td>\n",
       "      <td>...</td>\n",
       "      <td>0</td>\n",
       "      <td>0</td>\n",
       "      <td>0</td>\n",
       "      <td>0</td>\n",
       "      <td>0</td>\n",
       "      <td>0</td>\n",
       "      <td>0</td>\n",
       "      <td>0</td>\n",
       "      <td>0</td>\n",
       "      <td>0</td>\n",
       "    </tr>\n",
       "  </tbody>\n",
       "</table>\n",
       "<p>5 rows × 59 columns</p>\n",
       "</div>"
      ],
      "text/plain": [
       "   total_likes  paid  lifetime_reach  lifetime_impressions  \\\n",
       "0       139441   0.0            2752                  5091   \n",
       "1       139441   0.0           10460                 19057   \n",
       "2       139441   0.0            2413                  4373   \n",
       "3       139441   1.0           50128                 87991   \n",
       "4       139441   0.0            7244                 13594   \n",
       "\n",
       "   lifetime_engaged_users  lifetime_consumers  lifetime_consumptions  \\\n",
       "0                     178                 109                    159   \n",
       "1                    1457                1361                   1674   \n",
       "2                     177                 113                    154   \n",
       "3                    2211                 790                   1119   \n",
       "4                     671                 410                    580   \n",
       "\n",
       "   impressions_by_likers  reach_by_likers  likers_who_engaged  ...  \\\n",
       "0                   3078             1640                 119  ...   \n",
       "1                  11710             6112                1108  ...   \n",
       "2                   2812             1503                 132  ...   \n",
       "3                  61027            32048                1386  ...   \n",
       "4                   6228             3200                 396  ...   \n",
       "\n",
       "   post_hour_13  post_hour_14  post_hour_15  post_hour_16  post_hour_17  \\\n",
       "0             0             0             0             0             0   \n",
       "1             0             0             0             0             0   \n",
       "2             0             0             0             0             0   \n",
       "3             0             0             0             0             0   \n",
       "4             0             0             0             0             0   \n",
       "\n",
       "   post_hour_18  post_hour_19  post_hour_20  post_hour_22  post_hour_23  \n",
       "0             0             0             0             0             0  \n",
       "1             0             0             0             0             0  \n",
       "2             0             0             0             0             0  \n",
       "3             0             0             0             0             0  \n",
       "4             0             0             0             0             0  \n",
       "\n",
       "[5 rows x 59 columns]"
      ]
     },
     "execution_count": 6,
     "metadata": {},
     "output_type": "execute_result"
    }
   ],
   "source": [
    "df.head()"
   ]
  },
  {
   "cell_type": "code",
   "execution_count": 7,
   "id": "df88d384",
   "metadata": {},
   "outputs": [
    {
     "data": {
      "text/plain": [
       "Index(['total_likes', 'paid', 'lifetime_reach', 'lifetime_impressions',\n",
       "       'lifetime_engaged_users', 'lifetime_consumers', 'lifetime_consumptions',\n",
       "       'impressions_by_likers', 'reach_by_likers', 'likers_who_engaged',\n",
       "       'total_interactions', 'type_Link', 'type_Photo', 'type_Status',\n",
       "       'type_Video', 'category_1', 'category_2', 'category_3', 'post_month_1',\n",
       "       'post_month_2', 'post_month_3', 'post_month_4', 'post_month_5',\n",
       "       'post_month_6', 'post_month_7', 'post_month_8', 'post_month_9',\n",
       "       'post_month_10', 'post_month_11', 'post_month_12', 'post_weekday_1',\n",
       "       'post_weekday_2', 'post_weekday_3', 'post_weekday_4', 'post_weekday_5',\n",
       "       'post_weekday_6', 'post_weekday_7', 'post_hour_1', 'post_hour_2',\n",
       "       'post_hour_3', 'post_hour_4', 'post_hour_5', 'post_hour_6',\n",
       "       'post_hour_7', 'post_hour_8', 'post_hour_9', 'post_hour_10',\n",
       "       'post_hour_11', 'post_hour_12', 'post_hour_13', 'post_hour_14',\n",
       "       'post_hour_15', 'post_hour_16', 'post_hour_17', 'post_hour_18',\n",
       "       'post_hour_19', 'post_hour_20', 'post_hour_22', 'post_hour_23'],\n",
       "      dtype='object')"
      ]
     },
     "execution_count": 7,
     "metadata": {},
     "output_type": "execute_result"
    }
   ],
   "source": [
    "df.columns"
   ]
  },
  {
   "cell_type": "markdown",
   "id": "37353750",
   "metadata": {},
   "source": [
    "Next we will split our data into training, testing and validation sets. We have 495 rows to work with so we will aim at having a split of 60-20-20 percent for our corresponding training, testing and validation sets. "
   ]
  },
  {
   "cell_type": "code",
   "execution_count": 8,
   "id": "1b26d478",
   "metadata": {},
   "outputs": [],
   "source": [
    "#separate our features and target variable\n",
    "X = df.drop('total_interactions', axis=1)\n",
    "y = df['total_interactions']"
   ]
  },
  {
   "cell_type": "code",
   "execution_count": 9,
   "id": "e70994eb",
   "metadata": {},
   "outputs": [],
   "source": [
    "#create our 60-20-20 split of our data\n",
    "X, X_test, y, y_test = train_test_split(X, y, test_size=0.2, random_state=8)\n",
    "X_train, X_val, y_train, y_val = train_test_split(X, y, test_size=0.25, random_state=8)"
   ]
  },
  {
   "cell_type": "code",
   "execution_count": 10,
   "id": "b61453ba",
   "metadata": {},
   "outputs": [
    {
     "name": "stdout",
     "output_type": "stream",
     "text": [
      "Training set percent:  0.6\n",
      "Testing set percent:  0.2\n",
      "Validation set percent:  0.2\n"
     ]
    }
   ],
   "source": [
    "#assert that our splits follow 60-20-20\n",
    "print('Training set percent: ', X_train.shape[0] / df.shape[0])\n",
    "print('Testing set percent: ', X_test.shape[0] / df.shape[0])\n",
    "print('Validation set percent: ', X_val.shape[0] / df.shape[0])"
   ]
  },
  {
   "cell_type": "code",
   "execution_count": 11,
   "id": "99f00796",
   "metadata": {},
   "outputs": [],
   "source": [
    "#dictionary that will be used to store our testing results\n",
    "test_results = {}"
   ]
  },
  {
   "cell_type": "markdown",
   "id": "c4b3a3c0",
   "metadata": {},
   "source": [
    "## Establishing A Baseline\n",
    "\n",
    "Now that we have our dummy variables as well as our training, testing and validation sets we are ready to begin building our regression models.\n",
    "\n",
    "Since the purpose of project is to evaluate the important attributes using a linear regression model we must first create a baseline. The purpose of our baseline would be to compare how our future models with less attributes compare to a model with all the attributes present. \n",
    "\n",
    "The baseline model for this project will be a simple Ordinary Least Square Linear Regression model from `sklearn` using all the available features. We will evaluate all our models using Mean Absolute Error (MAE)."
   ]
  },
  {
   "cell_type": "code",
   "execution_count": 12,
   "id": "3624a33c",
   "metadata": {},
   "outputs": [
    {
     "data": {
      "text/plain": [
       "LinearRegression()"
      ]
     },
     "execution_count": 12,
     "metadata": {},
     "output_type": "execute_result"
    }
   ],
   "source": [
    "#used to store test results\n",
    "test_results['baseline_reg'] = {}\n",
    "\n",
    "#creating our baseline Linear Regression Model\n",
    "baseline_reg = linear_model.LinearRegression()\n",
    "baseline_reg.fit(X_train, y_train)"
   ]
  },
  {
   "cell_type": "code",
   "execution_count": 13,
   "id": "c2ce5840",
   "metadata": {},
   "outputs": [],
   "source": [
    "#evaluating our baseline regression model on training data\n",
    "test_results['baseline_reg']['train_mae'] = mean_absolute_error(y_train, baseline_reg.predict(X_train))"
   ]
  },
  {
   "cell_type": "code",
   "execution_count": 14,
   "id": "9dfc2c43",
   "metadata": {},
   "outputs": [],
   "source": [
    "#evaluating our baseline regression model on test data\n",
    "test_results['baseline_reg']['test_mae'] = mean_absolute_error(y_test, baseline_reg.predict(X_test))"
   ]
  },
  {
   "cell_type": "code",
   "execution_count": 15,
   "id": "65a0580c",
   "metadata": {},
   "outputs": [
    {
     "data": {
      "text/plain": [
       "{'train_mae': 35.213034588514546, 'test_mae': 32.74318852274562}"
      ]
     },
     "execution_count": 15,
     "metadata": {},
     "output_type": "execute_result"
    }
   ],
   "source": [
    "#see our results\n",
    "test_results['baseline_reg']"
   ]
  }
 ],
 "metadata": {
  "kernelspec": {
   "display_name": "Python 3",
   "language": "python",
   "name": "python3"
  },
  "language_info": {
   "codemirror_mode": {
    "name": "ipython",
    "version": 3
   },
   "file_extension": ".py",
   "mimetype": "text/x-python",
   "name": "python",
   "nbconvert_exporter": "python",
   "pygments_lexer": "ipython3",
   "version": "3.8.5"
  }
 },
 "nbformat": 4,
 "nbformat_minor": 5
}
