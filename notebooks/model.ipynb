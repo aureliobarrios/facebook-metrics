{
 "cells": [
  {
   "cell_type": "markdown",
   "id": "61a87952",
   "metadata": {},
   "source": [
    "# Facebook Metrics Modeling\n",
    "\n",
    "So far we have found that most of the attributes in our facebook metrics dataset are positively correlated with each other. This shows us that we should perform some Dimensionality Reduction techniques to get a better understanding of some of the core features/attributes that affect the total interactions of a facebook post. \n",
    "\n",
    "## Goal\n",
    "\n",
    "The goal of this project is to build a model that captures and accurately predicts `total_interactions` using a smaller set of features better than a model that uses all the features avaiable to us. By the end of this project we hope to get a better understanding of what features have a stronger relationship with our target variable. \n",
    "\n",
    "## Imports"
   ]
  },
  {
   "cell_type": "code",
   "execution_count": 1,
   "id": "05994c92",
   "metadata": {},
   "outputs": [],
   "source": [
    "import numpy as np\n",
    "import pandas as pd\n",
    "import seaborn as sn\n",
    "import matplotlib.pyplot as plt\n",
    "\n",
    "from sklearn import linear_model\n",
    "from sklearn.metrics import mean_absolute_error\n",
    "from sklearn.model_selection import train_test_split\n",
    "from sklearn.preprocessing import StandardScaler\n",
    "from sklearn.decomposition import PCA"
   ]
  },
  {
   "cell_type": "code",
   "execution_count": 2,
   "id": "482d18f4",
   "metadata": {},
   "outputs": [],
   "source": [
    "df = pd.read_csv('../data/facebook_clean.csv')"
   ]
  },
  {
   "cell_type": "code",
   "execution_count": 3,
   "id": "64c07d38",
   "metadata": {},
   "outputs": [
    {
     "data": {
      "text/html": [
       "<div>\n",
       "<style scoped>\n",
       "    .dataframe tbody tr th:only-of-type {\n",
       "        vertical-align: middle;\n",
       "    }\n",
       "\n",
       "    .dataframe tbody tr th {\n",
       "        vertical-align: top;\n",
       "    }\n",
       "\n",
       "    .dataframe thead th {\n",
       "        text-align: right;\n",
       "    }\n",
       "</style>\n",
       "<table border=\"1\" class=\"dataframe\">\n",
       "  <thead>\n",
       "    <tr style=\"text-align: right;\">\n",
       "      <th></th>\n",
       "      <th>total_likes</th>\n",
       "      <th>type</th>\n",
       "      <th>category</th>\n",
       "      <th>post_month</th>\n",
       "      <th>post_weekday</th>\n",
       "      <th>post_hour</th>\n",
       "      <th>paid</th>\n",
       "      <th>lifetime_reach</th>\n",
       "      <th>lifetime_impressions</th>\n",
       "      <th>lifetime_engaged_users</th>\n",
       "      <th>lifetime_consumers</th>\n",
       "      <th>lifetime_consumptions</th>\n",
       "      <th>impressions_by_likers</th>\n",
       "      <th>reach_by_likers</th>\n",
       "      <th>likers_who_engaged</th>\n",
       "      <th>total_interactions</th>\n",
       "    </tr>\n",
       "  </thead>\n",
       "  <tbody>\n",
       "    <tr>\n",
       "      <th>0</th>\n",
       "      <td>139441</td>\n",
       "      <td>Photo</td>\n",
       "      <td>2</td>\n",
       "      <td>12</td>\n",
       "      <td>4</td>\n",
       "      <td>3</td>\n",
       "      <td>0.0</td>\n",
       "      <td>2752</td>\n",
       "      <td>5091</td>\n",
       "      <td>178</td>\n",
       "      <td>109</td>\n",
       "      <td>159</td>\n",
       "      <td>3078</td>\n",
       "      <td>1640</td>\n",
       "      <td>119</td>\n",
       "      <td>100</td>\n",
       "    </tr>\n",
       "    <tr>\n",
       "      <th>1</th>\n",
       "      <td>139441</td>\n",
       "      <td>Status</td>\n",
       "      <td>2</td>\n",
       "      <td>12</td>\n",
       "      <td>3</td>\n",
       "      <td>10</td>\n",
       "      <td>0.0</td>\n",
       "      <td>10460</td>\n",
       "      <td>19057</td>\n",
       "      <td>1457</td>\n",
       "      <td>1361</td>\n",
       "      <td>1674</td>\n",
       "      <td>11710</td>\n",
       "      <td>6112</td>\n",
       "      <td>1108</td>\n",
       "      <td>164</td>\n",
       "    </tr>\n",
       "    <tr>\n",
       "      <th>2</th>\n",
       "      <td>139441</td>\n",
       "      <td>Photo</td>\n",
       "      <td>3</td>\n",
       "      <td>12</td>\n",
       "      <td>3</td>\n",
       "      <td>3</td>\n",
       "      <td>0.0</td>\n",
       "      <td>2413</td>\n",
       "      <td>4373</td>\n",
       "      <td>177</td>\n",
       "      <td>113</td>\n",
       "      <td>154</td>\n",
       "      <td>2812</td>\n",
       "      <td>1503</td>\n",
       "      <td>132</td>\n",
       "      <td>80</td>\n",
       "    </tr>\n",
       "    <tr>\n",
       "      <th>3</th>\n",
       "      <td>139441</td>\n",
       "      <td>Photo</td>\n",
       "      <td>2</td>\n",
       "      <td>12</td>\n",
       "      <td>2</td>\n",
       "      <td>10</td>\n",
       "      <td>1.0</td>\n",
       "      <td>50128</td>\n",
       "      <td>87991</td>\n",
       "      <td>2211</td>\n",
       "      <td>790</td>\n",
       "      <td>1119</td>\n",
       "      <td>61027</td>\n",
       "      <td>32048</td>\n",
       "      <td>1386</td>\n",
       "      <td>1777</td>\n",
       "    </tr>\n",
       "    <tr>\n",
       "      <th>4</th>\n",
       "      <td>139441</td>\n",
       "      <td>Photo</td>\n",
       "      <td>2</td>\n",
       "      <td>12</td>\n",
       "      <td>2</td>\n",
       "      <td>3</td>\n",
       "      <td>0.0</td>\n",
       "      <td>7244</td>\n",
       "      <td>13594</td>\n",
       "      <td>671</td>\n",
       "      <td>410</td>\n",
       "      <td>580</td>\n",
       "      <td>6228</td>\n",
       "      <td>3200</td>\n",
       "      <td>396</td>\n",
       "      <td>393</td>\n",
       "    </tr>\n",
       "  </tbody>\n",
       "</table>\n",
       "</div>"
      ],
      "text/plain": [
       "   total_likes    type  category  post_month  post_weekday  post_hour  paid  \\\n",
       "0       139441   Photo         2          12             4          3   0.0   \n",
       "1       139441  Status         2          12             3         10   0.0   \n",
       "2       139441   Photo         3          12             3          3   0.0   \n",
       "3       139441   Photo         2          12             2         10   1.0   \n",
       "4       139441   Photo         2          12             2          3   0.0   \n",
       "\n",
       "   lifetime_reach  lifetime_impressions  lifetime_engaged_users  \\\n",
       "0            2752                  5091                     178   \n",
       "1           10460                 19057                    1457   \n",
       "2            2413                  4373                     177   \n",
       "3           50128                 87991                    2211   \n",
       "4            7244                 13594                     671   \n",
       "\n",
       "   lifetime_consumers  lifetime_consumptions  impressions_by_likers  \\\n",
       "0                 109                    159                   3078   \n",
       "1                1361                   1674                  11710   \n",
       "2                 113                    154                   2812   \n",
       "3                 790                   1119                  61027   \n",
       "4                 410                    580                   6228   \n",
       "\n",
       "   reach_by_likers  likers_who_engaged  total_interactions  \n",
       "0             1640                 119                 100  \n",
       "1             6112                1108                 164  \n",
       "2             1503                 132                  80  \n",
       "3            32048                1386                1777  \n",
       "4             3200                 396                 393  "
      ]
     },
     "execution_count": 3,
     "metadata": {},
     "output_type": "execute_result"
    }
   ],
   "source": [
    "df.head()"
   ]
  },
  {
   "cell_type": "code",
   "execution_count": 4,
   "id": "c0947628",
   "metadata": {},
   "outputs": [
    {
     "data": {
      "text/plain": [
       "(495, 16)"
      ]
     },
     "execution_count": 4,
     "metadata": {},
     "output_type": "execute_result"
    }
   ],
   "source": [
    "df.shape"
   ]
  },
  {
   "cell_type": "markdown",
   "id": "4c84fa77",
   "metadata": {},
   "source": [
    "## Data Preparation\n",
    "\n",
    "Before we begin building our model we must prepare our data for the purpose of machine learning model building. This means creating dummy variables for categorical columns like `type`, `category`, `post_month`, `post_weekday`, and `post_hour`. Through our exploratory data analysis we also noticed that our data is prone to outliers. For this reason we will also standardize our data in order to reduce the impace of outliers. "
   ]
  },
  {
   "cell_type": "code",
   "execution_count": 5,
   "id": "518feb3d",
   "metadata": {},
   "outputs": [],
   "source": [
    "#get our categorical columns\n",
    "dummy_cols = ['type', 'category', 'post_month', 'post_weekday', 'post_hour']"
   ]
  },
  {
   "cell_type": "code",
   "execution_count": 6,
   "id": "fe7b9870",
   "metadata": {},
   "outputs": [
    {
     "data": {
      "text/html": [
       "<div>\n",
       "<style scoped>\n",
       "    .dataframe tbody tr th:only-of-type {\n",
       "        vertical-align: middle;\n",
       "    }\n",
       "\n",
       "    .dataframe tbody tr th {\n",
       "        vertical-align: top;\n",
       "    }\n",
       "\n",
       "    .dataframe thead th {\n",
       "        text-align: right;\n",
       "    }\n",
       "</style>\n",
       "<table border=\"1\" class=\"dataframe\">\n",
       "  <thead>\n",
       "    <tr style=\"text-align: right;\">\n",
       "      <th></th>\n",
       "      <th>type_Link</th>\n",
       "      <th>type_Photo</th>\n",
       "      <th>type_Status</th>\n",
       "      <th>type_Video</th>\n",
       "      <th>category_1</th>\n",
       "      <th>category_2</th>\n",
       "      <th>category_3</th>\n",
       "      <th>post_month_1</th>\n",
       "      <th>post_month_2</th>\n",
       "      <th>post_month_3</th>\n",
       "      <th>...</th>\n",
       "      <th>post_hour_13</th>\n",
       "      <th>post_hour_14</th>\n",
       "      <th>post_hour_15</th>\n",
       "      <th>post_hour_16</th>\n",
       "      <th>post_hour_17</th>\n",
       "      <th>post_hour_18</th>\n",
       "      <th>post_hour_19</th>\n",
       "      <th>post_hour_20</th>\n",
       "      <th>post_hour_22</th>\n",
       "      <th>post_hour_23</th>\n",
       "    </tr>\n",
       "  </thead>\n",
       "  <tbody>\n",
       "    <tr>\n",
       "      <th>0</th>\n",
       "      <td>0</td>\n",
       "      <td>1</td>\n",
       "      <td>0</td>\n",
       "      <td>0</td>\n",
       "      <td>0</td>\n",
       "      <td>1</td>\n",
       "      <td>0</td>\n",
       "      <td>0</td>\n",
       "      <td>0</td>\n",
       "      <td>0</td>\n",
       "      <td>...</td>\n",
       "      <td>0</td>\n",
       "      <td>0</td>\n",
       "      <td>0</td>\n",
       "      <td>0</td>\n",
       "      <td>0</td>\n",
       "      <td>0</td>\n",
       "      <td>0</td>\n",
       "      <td>0</td>\n",
       "      <td>0</td>\n",
       "      <td>0</td>\n",
       "    </tr>\n",
       "    <tr>\n",
       "      <th>1</th>\n",
       "      <td>0</td>\n",
       "      <td>0</td>\n",
       "      <td>1</td>\n",
       "      <td>0</td>\n",
       "      <td>0</td>\n",
       "      <td>1</td>\n",
       "      <td>0</td>\n",
       "      <td>0</td>\n",
       "      <td>0</td>\n",
       "      <td>0</td>\n",
       "      <td>...</td>\n",
       "      <td>0</td>\n",
       "      <td>0</td>\n",
       "      <td>0</td>\n",
       "      <td>0</td>\n",
       "      <td>0</td>\n",
       "      <td>0</td>\n",
       "      <td>0</td>\n",
       "      <td>0</td>\n",
       "      <td>0</td>\n",
       "      <td>0</td>\n",
       "    </tr>\n",
       "    <tr>\n",
       "      <th>2</th>\n",
       "      <td>0</td>\n",
       "      <td>1</td>\n",
       "      <td>0</td>\n",
       "      <td>0</td>\n",
       "      <td>0</td>\n",
       "      <td>0</td>\n",
       "      <td>1</td>\n",
       "      <td>0</td>\n",
       "      <td>0</td>\n",
       "      <td>0</td>\n",
       "      <td>...</td>\n",
       "      <td>0</td>\n",
       "      <td>0</td>\n",
       "      <td>0</td>\n",
       "      <td>0</td>\n",
       "      <td>0</td>\n",
       "      <td>0</td>\n",
       "      <td>0</td>\n",
       "      <td>0</td>\n",
       "      <td>0</td>\n",
       "      <td>0</td>\n",
       "    </tr>\n",
       "    <tr>\n",
       "      <th>3</th>\n",
       "      <td>0</td>\n",
       "      <td>1</td>\n",
       "      <td>0</td>\n",
       "      <td>0</td>\n",
       "      <td>0</td>\n",
       "      <td>1</td>\n",
       "      <td>0</td>\n",
       "      <td>0</td>\n",
       "      <td>0</td>\n",
       "      <td>0</td>\n",
       "      <td>...</td>\n",
       "      <td>0</td>\n",
       "      <td>0</td>\n",
       "      <td>0</td>\n",
       "      <td>0</td>\n",
       "      <td>0</td>\n",
       "      <td>0</td>\n",
       "      <td>0</td>\n",
       "      <td>0</td>\n",
       "      <td>0</td>\n",
       "      <td>0</td>\n",
       "    </tr>\n",
       "    <tr>\n",
       "      <th>4</th>\n",
       "      <td>0</td>\n",
       "      <td>1</td>\n",
       "      <td>0</td>\n",
       "      <td>0</td>\n",
       "      <td>0</td>\n",
       "      <td>1</td>\n",
       "      <td>0</td>\n",
       "      <td>0</td>\n",
       "      <td>0</td>\n",
       "      <td>0</td>\n",
       "      <td>...</td>\n",
       "      <td>0</td>\n",
       "      <td>0</td>\n",
       "      <td>0</td>\n",
       "      <td>0</td>\n",
       "      <td>0</td>\n",
       "      <td>0</td>\n",
       "      <td>0</td>\n",
       "      <td>0</td>\n",
       "      <td>0</td>\n",
       "      <td>0</td>\n",
       "    </tr>\n",
       "  </tbody>\n",
       "</table>\n",
       "<p>5 rows × 48 columns</p>\n",
       "</div>"
      ],
      "text/plain": [
       "   type_Link  type_Photo  type_Status  type_Video  category_1  category_2  \\\n",
       "0          0           1            0           0           0           1   \n",
       "1          0           0            1           0           0           1   \n",
       "2          0           1            0           0           0           0   \n",
       "3          0           1            0           0           0           1   \n",
       "4          0           1            0           0           0           1   \n",
       "\n",
       "   category_3  post_month_1  post_month_2  post_month_3  ...  post_hour_13  \\\n",
       "0           0             0             0             0  ...             0   \n",
       "1           0             0             0             0  ...             0   \n",
       "2           1             0             0             0  ...             0   \n",
       "3           0             0             0             0  ...             0   \n",
       "4           0             0             0             0  ...             0   \n",
       "\n",
       "   post_hour_14  post_hour_15  post_hour_16  post_hour_17  post_hour_18  \\\n",
       "0             0             0             0             0             0   \n",
       "1             0             0             0             0             0   \n",
       "2             0             0             0             0             0   \n",
       "3             0             0             0             0             0   \n",
       "4             0             0             0             0             0   \n",
       "\n",
       "   post_hour_19  post_hour_20  post_hour_22  post_hour_23  \n",
       "0             0             0             0             0  \n",
       "1             0             0             0             0  \n",
       "2             0             0             0             0  \n",
       "3             0             0             0             0  \n",
       "4             0             0             0             0  \n",
       "\n",
       "[5 rows x 48 columns]"
      ]
     },
     "execution_count": 6,
     "metadata": {},
     "output_type": "execute_result"
    }
   ],
   "source": [
    "#create a dataframe with all our dummy columns\n",
    "dummy_df = df[dummy_cols]\n",
    "dummy_df = pd.get_dummies(dummy_df, columns=dummy_cols, dtype='int')\n",
    "dummy_df.head()"
   ]
  },
  {
   "cell_type": "code",
   "execution_count": 7,
   "id": "66c733ec",
   "metadata": {},
   "outputs": [],
   "source": [
    "#get a dataframe of all our columns that need to be standardized\n",
    "standard_df = df.drop(dummy_cols + ['paid', 'total_interactions'], axis=1)\n",
    "#save the names for our columns\n",
    "standard_cols = standard_df.columns"
   ]
  },
  {
   "cell_type": "code",
   "execution_count": 8,
   "id": "43aa2d01",
   "metadata": {},
   "outputs": [
    {
     "data": {
      "text/html": [
       "<div>\n",
       "<style scoped>\n",
       "    .dataframe tbody tr th:only-of-type {\n",
       "        vertical-align: middle;\n",
       "    }\n",
       "\n",
       "    .dataframe tbody tr th {\n",
       "        vertical-align: top;\n",
       "    }\n",
       "\n",
       "    .dataframe thead th {\n",
       "        text-align: right;\n",
       "    }\n",
       "</style>\n",
       "<table border=\"1\" class=\"dataframe\">\n",
       "  <thead>\n",
       "    <tr style=\"text-align: right;\">\n",
       "      <th></th>\n",
       "      <th>total_likes</th>\n",
       "      <th>lifetime_reach</th>\n",
       "      <th>lifetime_impressions</th>\n",
       "      <th>lifetime_engaged_users</th>\n",
       "      <th>lifetime_consumers</th>\n",
       "      <th>lifetime_consumptions</th>\n",
       "      <th>impressions_by_likers</th>\n",
       "      <th>reach_by_likers</th>\n",
       "      <th>likers_who_engaged</th>\n",
       "    </tr>\n",
       "  </thead>\n",
       "  <tbody>\n",
       "    <tr>\n",
       "      <th>0</th>\n",
       "      <td>1.00496</td>\n",
       "      <td>-0.494610</td>\n",
       "      <td>-0.321365</td>\n",
       "      <td>-0.758912</td>\n",
       "      <td>-0.786117</td>\n",
       "      <td>-0.631681</td>\n",
       "      <td>-0.230587</td>\n",
       "      <td>-0.650161</td>\n",
       "      <td>-0.806770</td>\n",
       "    </tr>\n",
       "    <tr>\n",
       "      <th>1</th>\n",
       "      <td>1.00496</td>\n",
       "      <td>-0.156509</td>\n",
       "      <td>-0.140141</td>\n",
       "      <td>0.537308</td>\n",
       "      <td>0.629708</td>\n",
       "      <td>0.123691</td>\n",
       "      <td>-0.086752</td>\n",
       "      <td>-0.068815</td>\n",
       "      <td>0.804700</td>\n",
       "    </tr>\n",
       "    <tr>\n",
       "      <th>2</th>\n",
       "      <td>1.00496</td>\n",
       "      <td>-0.509479</td>\n",
       "      <td>-0.330682</td>\n",
       "      <td>-0.759926</td>\n",
       "      <td>-0.781594</td>\n",
       "      <td>-0.634174</td>\n",
       "      <td>-0.235019</td>\n",
       "      <td>-0.667971</td>\n",
       "      <td>-0.785588</td>\n",
       "    </tr>\n",
       "    <tr>\n",
       "      <th>3</th>\n",
       "      <td>1.00496</td>\n",
       "      <td>1.583469</td>\n",
       "      <td>0.754351</td>\n",
       "      <td>1.301459</td>\n",
       "      <td>-0.016008</td>\n",
       "      <td>-0.153029</td>\n",
       "      <td>0.735016</td>\n",
       "      <td>3.302788</td>\n",
       "      <td>1.257671</td>\n",
       "    </tr>\n",
       "    <tr>\n",
       "      <th>4</th>\n",
       "      <td>1.00496</td>\n",
       "      <td>-0.297575</td>\n",
       "      <td>-0.211030</td>\n",
       "      <td>-0.259275</td>\n",
       "      <td>-0.445731</td>\n",
       "      <td>-0.421772</td>\n",
       "      <td>-0.178098</td>\n",
       "      <td>-0.447366</td>\n",
       "      <td>-0.355428</td>\n",
       "    </tr>\n",
       "  </tbody>\n",
       "</table>\n",
       "</div>"
      ],
      "text/plain": [
       "   total_likes  lifetime_reach  lifetime_impressions  lifetime_engaged_users  \\\n",
       "0      1.00496       -0.494610             -0.321365               -0.758912   \n",
       "1      1.00496       -0.156509             -0.140141                0.537308   \n",
       "2      1.00496       -0.509479             -0.330682               -0.759926   \n",
       "3      1.00496        1.583469              0.754351                1.301459   \n",
       "4      1.00496       -0.297575             -0.211030               -0.259275   \n",
       "\n",
       "   lifetime_consumers  lifetime_consumptions  impressions_by_likers  \\\n",
       "0           -0.786117              -0.631681              -0.230587   \n",
       "1            0.629708               0.123691              -0.086752   \n",
       "2           -0.781594              -0.634174              -0.235019   \n",
       "3           -0.016008              -0.153029               0.735016   \n",
       "4           -0.445731              -0.421772              -0.178098   \n",
       "\n",
       "   reach_by_likers  likers_who_engaged  \n",
       "0        -0.650161           -0.806770  \n",
       "1        -0.068815            0.804700  \n",
       "2        -0.667971           -0.785588  \n",
       "3         3.302788            1.257671  \n",
       "4        -0.447366           -0.355428  "
      ]
     },
     "execution_count": 8,
     "metadata": {},
     "output_type": "execute_result"
    }
   ],
   "source": [
    "#standardize our numerical columns and make it into a dataframe\n",
    "standard_df = StandardScaler().fit_transform(standard_df)\n",
    "standard_df = pd.DataFrame(standard_df, columns=standard_cols)\n",
    "standard_df.head()"
   ]
  },
  {
   "cell_type": "code",
   "execution_count": 9,
   "id": "a3d93459",
   "metadata": {},
   "outputs": [
    {
     "data": {
      "text/html": [
       "<div>\n",
       "<style scoped>\n",
       "    .dataframe tbody tr th:only-of-type {\n",
       "        vertical-align: middle;\n",
       "    }\n",
       "\n",
       "    .dataframe tbody tr th {\n",
       "        vertical-align: top;\n",
       "    }\n",
       "\n",
       "    .dataframe thead th {\n",
       "        text-align: right;\n",
       "    }\n",
       "</style>\n",
       "<table border=\"1\" class=\"dataframe\">\n",
       "  <thead>\n",
       "    <tr style=\"text-align: right;\">\n",
       "      <th></th>\n",
       "      <th>total_likes</th>\n",
       "      <th>lifetime_reach</th>\n",
       "      <th>lifetime_impressions</th>\n",
       "      <th>lifetime_engaged_users</th>\n",
       "      <th>lifetime_consumers</th>\n",
       "      <th>lifetime_consumptions</th>\n",
       "      <th>impressions_by_likers</th>\n",
       "      <th>reach_by_likers</th>\n",
       "      <th>likers_who_engaged</th>\n",
       "    </tr>\n",
       "  </thead>\n",
       "  <tbody>\n",
       "    <tr>\n",
       "      <th>count</th>\n",
       "      <td>495.000000</td>\n",
       "      <td>4.950000e+02</td>\n",
       "      <td>4.950000e+02</td>\n",
       "      <td>4.950000e+02</td>\n",
       "      <td>495.000000</td>\n",
       "      <td>4.950000e+02</td>\n",
       "      <td>4.950000e+02</td>\n",
       "      <td>4.950000e+02</td>\n",
       "      <td>4.950000e+02</td>\n",
       "    </tr>\n",
       "    <tr>\n",
       "      <th>mean</th>\n",
       "      <td>0.000000</td>\n",
       "      <td>-1.435440e-17</td>\n",
       "      <td>-1.435440e-17</td>\n",
       "      <td>-5.741759e-17</td>\n",
       "      <td>0.000000</td>\n",
       "      <td>-4.306320e-17</td>\n",
       "      <td>-2.870880e-17</td>\n",
       "      <td>-5.741759e-17</td>\n",
       "      <td>8.253779e-17</td>\n",
       "    </tr>\n",
       "    <tr>\n",
       "      <th>std</th>\n",
       "      <td>1.001012</td>\n",
       "      <td>1.001012e+00</td>\n",
       "      <td>1.001012e+00</td>\n",
       "      <td>1.001012e+00</td>\n",
       "      <td>1.001012</td>\n",
       "      <td>1.001012e+00</td>\n",
       "      <td>1.001012e+00</td>\n",
       "      <td>1.001012e+00</td>\n",
       "      <td>1.001012e+00</td>\n",
       "    </tr>\n",
       "    <tr>\n",
       "      <th>min</th>\n",
       "      <td>-2.582451</td>\n",
       "      <td>-6.048824e-01</td>\n",
       "      <td>-3.800299e-01</td>\n",
       "      <td>-9.301878e-01</td>\n",
       "      <td>-0.899202</td>\n",
       "      <td>-7.064703e-01</td>\n",
       "      <td>-2.724275e-01</td>\n",
       "      <td>-8.326771e-01</td>\n",
       "      <td>-9.860034e-01</td>\n",
       "    </tr>\n",
       "    <tr>\n",
       "      <th>25%</th>\n",
       "      <td>-0.670227</td>\n",
       "      <td>-4.692125e-01</td>\n",
       "      <td>-3.121910e-01</td>\n",
       "      <td>-5.349369e-01</td>\n",
       "      <td>-0.530545</td>\n",
       "      <td>-4.554276e-01</td>\n",
       "      <td>-2.139988e-01</td>\n",
       "      <td>-5.756730e-01</td>\n",
       "      <td>-5.159235e-01</td>\n",
       "    </tr>\n",
       "    <tr>\n",
       "      <th>50%</th>\n",
       "      <td>0.397020</td>\n",
       "      <td>-3.832839e-01</td>\n",
       "      <td>-2.695516e-01</td>\n",
       "      <td>-3.008268e-01</td>\n",
       "      <td>-0.281758</td>\n",
       "      <td>-2.816671e-01</td>\n",
       "      <td>-1.771987e-01</td>\n",
       "      <td>-4.112268e-01</td>\n",
       "      <td>-3.228404e-01</td>\n",
       "    </tr>\n",
       "    <tr>\n",
       "      <th>75%</th>\n",
       "      <td>0.816666</td>\n",
       "      <td>-3.421798e-02</td>\n",
       "      <td>-9.542577e-02</td>\n",
       "      <td>1.369896e-01</td>\n",
       "      <td>0.186414</td>\n",
       "      <td>2.646484e-02</td>\n",
       "      <td>-2.954809e-02</td>\n",
       "      <td>1.789597e-01</td>\n",
       "      <td>7.228745e-02</td>\n",
       "    </tr>\n",
       "    <tr>\n",
       "      <th>max</th>\n",
       "      <td>1.004960</td>\n",
       "      <td>7.301167e+00</td>\n",
       "      <td>1.401967e+01</td>\n",
       "      <td>1.066688e+01</td>\n",
       "      <td>11.900899</td>\n",
       "      <td>9.150759e+00</td>\n",
       "      <td>1.817791e+01</td>\n",
       "      <td>5.825770e+00</td>\n",
       "      <td>6.129556e+00</td>\n",
       "    </tr>\n",
       "  </tbody>\n",
       "</table>\n",
       "</div>"
      ],
      "text/plain": [
       "       total_likes  lifetime_reach  lifetime_impressions  \\\n",
       "count   495.000000    4.950000e+02          4.950000e+02   \n",
       "mean      0.000000   -1.435440e-17         -1.435440e-17   \n",
       "std       1.001012    1.001012e+00          1.001012e+00   \n",
       "min      -2.582451   -6.048824e-01         -3.800299e-01   \n",
       "25%      -0.670227   -4.692125e-01         -3.121910e-01   \n",
       "50%       0.397020   -3.832839e-01         -2.695516e-01   \n",
       "75%       0.816666   -3.421798e-02         -9.542577e-02   \n",
       "max       1.004960    7.301167e+00          1.401967e+01   \n",
       "\n",
       "       lifetime_engaged_users  lifetime_consumers  lifetime_consumptions  \\\n",
       "count            4.950000e+02          495.000000           4.950000e+02   \n",
       "mean            -5.741759e-17            0.000000          -4.306320e-17   \n",
       "std              1.001012e+00            1.001012           1.001012e+00   \n",
       "min             -9.301878e-01           -0.899202          -7.064703e-01   \n",
       "25%             -5.349369e-01           -0.530545          -4.554276e-01   \n",
       "50%             -3.008268e-01           -0.281758          -2.816671e-01   \n",
       "75%              1.369896e-01            0.186414           2.646484e-02   \n",
       "max              1.066688e+01           11.900899           9.150759e+00   \n",
       "\n",
       "       impressions_by_likers  reach_by_likers  likers_who_engaged  \n",
       "count           4.950000e+02     4.950000e+02        4.950000e+02  \n",
       "mean           -2.870880e-17    -5.741759e-17        8.253779e-17  \n",
       "std             1.001012e+00     1.001012e+00        1.001012e+00  \n",
       "min            -2.724275e-01    -8.326771e-01       -9.860034e-01  \n",
       "25%            -2.139988e-01    -5.756730e-01       -5.159235e-01  \n",
       "50%            -1.771987e-01    -4.112268e-01       -3.228404e-01  \n",
       "75%            -2.954809e-02     1.789597e-01        7.228745e-02  \n",
       "max             1.817791e+01     5.825770e+00        6.129556e+00  "
      ]
     },
     "execution_count": 9,
     "metadata": {},
     "output_type": "execute_result"
    }
   ],
   "source": [
    "standard_df.describe()"
   ]
  },
  {
   "cell_type": "code",
   "execution_count": 10,
   "id": "4a48f808",
   "metadata": {},
   "outputs": [
    {
     "data": {
      "text/html": [
       "<div>\n",
       "<style scoped>\n",
       "    .dataframe tbody tr th:only-of-type {\n",
       "        vertical-align: middle;\n",
       "    }\n",
       "\n",
       "    .dataframe tbody tr th {\n",
       "        vertical-align: top;\n",
       "    }\n",
       "\n",
       "    .dataframe thead th {\n",
       "        text-align: right;\n",
       "    }\n",
       "</style>\n",
       "<table border=\"1\" class=\"dataframe\">\n",
       "  <thead>\n",
       "    <tr style=\"text-align: right;\">\n",
       "      <th></th>\n",
       "      <th>total_likes</th>\n",
       "      <th>lifetime_reach</th>\n",
       "      <th>lifetime_impressions</th>\n",
       "      <th>lifetime_engaged_users</th>\n",
       "      <th>lifetime_consumers</th>\n",
       "      <th>lifetime_consumptions</th>\n",
       "      <th>impressions_by_likers</th>\n",
       "      <th>reach_by_likers</th>\n",
       "      <th>likers_who_engaged</th>\n",
       "      <th>type_Link</th>\n",
       "      <th>...</th>\n",
       "      <th>post_hour_15</th>\n",
       "      <th>post_hour_16</th>\n",
       "      <th>post_hour_17</th>\n",
       "      <th>post_hour_18</th>\n",
       "      <th>post_hour_19</th>\n",
       "      <th>post_hour_20</th>\n",
       "      <th>post_hour_22</th>\n",
       "      <th>post_hour_23</th>\n",
       "      <th>paid</th>\n",
       "      <th>total_interactions</th>\n",
       "    </tr>\n",
       "  </thead>\n",
       "  <tbody>\n",
       "    <tr>\n",
       "      <th>0</th>\n",
       "      <td>1.00496</td>\n",
       "      <td>-0.494610</td>\n",
       "      <td>-0.321365</td>\n",
       "      <td>-0.758912</td>\n",
       "      <td>-0.786117</td>\n",
       "      <td>-0.631681</td>\n",
       "      <td>-0.230587</td>\n",
       "      <td>-0.650161</td>\n",
       "      <td>-0.806770</td>\n",
       "      <td>0</td>\n",
       "      <td>...</td>\n",
       "      <td>0</td>\n",
       "      <td>0</td>\n",
       "      <td>0</td>\n",
       "      <td>0</td>\n",
       "      <td>0</td>\n",
       "      <td>0</td>\n",
       "      <td>0</td>\n",
       "      <td>0</td>\n",
       "      <td>0.0</td>\n",
       "      <td>100</td>\n",
       "    </tr>\n",
       "    <tr>\n",
       "      <th>1</th>\n",
       "      <td>1.00496</td>\n",
       "      <td>-0.156509</td>\n",
       "      <td>-0.140141</td>\n",
       "      <td>0.537308</td>\n",
       "      <td>0.629708</td>\n",
       "      <td>0.123691</td>\n",
       "      <td>-0.086752</td>\n",
       "      <td>-0.068815</td>\n",
       "      <td>0.804700</td>\n",
       "      <td>0</td>\n",
       "      <td>...</td>\n",
       "      <td>0</td>\n",
       "      <td>0</td>\n",
       "      <td>0</td>\n",
       "      <td>0</td>\n",
       "      <td>0</td>\n",
       "      <td>0</td>\n",
       "      <td>0</td>\n",
       "      <td>0</td>\n",
       "      <td>0.0</td>\n",
       "      <td>164</td>\n",
       "    </tr>\n",
       "    <tr>\n",
       "      <th>2</th>\n",
       "      <td>1.00496</td>\n",
       "      <td>-0.509479</td>\n",
       "      <td>-0.330682</td>\n",
       "      <td>-0.759926</td>\n",
       "      <td>-0.781594</td>\n",
       "      <td>-0.634174</td>\n",
       "      <td>-0.235019</td>\n",
       "      <td>-0.667971</td>\n",
       "      <td>-0.785588</td>\n",
       "      <td>0</td>\n",
       "      <td>...</td>\n",
       "      <td>0</td>\n",
       "      <td>0</td>\n",
       "      <td>0</td>\n",
       "      <td>0</td>\n",
       "      <td>0</td>\n",
       "      <td>0</td>\n",
       "      <td>0</td>\n",
       "      <td>0</td>\n",
       "      <td>0.0</td>\n",
       "      <td>80</td>\n",
       "    </tr>\n",
       "    <tr>\n",
       "      <th>3</th>\n",
       "      <td>1.00496</td>\n",
       "      <td>1.583469</td>\n",
       "      <td>0.754351</td>\n",
       "      <td>1.301459</td>\n",
       "      <td>-0.016008</td>\n",
       "      <td>-0.153029</td>\n",
       "      <td>0.735016</td>\n",
       "      <td>3.302788</td>\n",
       "      <td>1.257671</td>\n",
       "      <td>0</td>\n",
       "      <td>...</td>\n",
       "      <td>0</td>\n",
       "      <td>0</td>\n",
       "      <td>0</td>\n",
       "      <td>0</td>\n",
       "      <td>0</td>\n",
       "      <td>0</td>\n",
       "      <td>0</td>\n",
       "      <td>0</td>\n",
       "      <td>1.0</td>\n",
       "      <td>1777</td>\n",
       "    </tr>\n",
       "    <tr>\n",
       "      <th>4</th>\n",
       "      <td>1.00496</td>\n",
       "      <td>-0.297575</td>\n",
       "      <td>-0.211030</td>\n",
       "      <td>-0.259275</td>\n",
       "      <td>-0.445731</td>\n",
       "      <td>-0.421772</td>\n",
       "      <td>-0.178098</td>\n",
       "      <td>-0.447366</td>\n",
       "      <td>-0.355428</td>\n",
       "      <td>0</td>\n",
       "      <td>...</td>\n",
       "      <td>0</td>\n",
       "      <td>0</td>\n",
       "      <td>0</td>\n",
       "      <td>0</td>\n",
       "      <td>0</td>\n",
       "      <td>0</td>\n",
       "      <td>0</td>\n",
       "      <td>0</td>\n",
       "      <td>0.0</td>\n",
       "      <td>393</td>\n",
       "    </tr>\n",
       "  </tbody>\n",
       "</table>\n",
       "<p>5 rows × 59 columns</p>\n",
       "</div>"
      ],
      "text/plain": [
       "   total_likes  lifetime_reach  lifetime_impressions  lifetime_engaged_users  \\\n",
       "0      1.00496       -0.494610             -0.321365               -0.758912   \n",
       "1      1.00496       -0.156509             -0.140141                0.537308   \n",
       "2      1.00496       -0.509479             -0.330682               -0.759926   \n",
       "3      1.00496        1.583469              0.754351                1.301459   \n",
       "4      1.00496       -0.297575             -0.211030               -0.259275   \n",
       "\n",
       "   lifetime_consumers  lifetime_consumptions  impressions_by_likers  \\\n",
       "0           -0.786117              -0.631681              -0.230587   \n",
       "1            0.629708               0.123691              -0.086752   \n",
       "2           -0.781594              -0.634174              -0.235019   \n",
       "3           -0.016008              -0.153029               0.735016   \n",
       "4           -0.445731              -0.421772              -0.178098   \n",
       "\n",
       "   reach_by_likers  likers_who_engaged  type_Link  ...  post_hour_15  \\\n",
       "0        -0.650161           -0.806770          0  ...             0   \n",
       "1        -0.068815            0.804700          0  ...             0   \n",
       "2        -0.667971           -0.785588          0  ...             0   \n",
       "3         3.302788            1.257671          0  ...             0   \n",
       "4        -0.447366           -0.355428          0  ...             0   \n",
       "\n",
       "   post_hour_16  post_hour_17  post_hour_18  post_hour_19  post_hour_20  \\\n",
       "0             0             0             0             0             0   \n",
       "1             0             0             0             0             0   \n",
       "2             0             0             0             0             0   \n",
       "3             0             0             0             0             0   \n",
       "4             0             0             0             0             0   \n",
       "\n",
       "   post_hour_22  post_hour_23  paid  total_interactions  \n",
       "0             0             0   0.0                 100  \n",
       "1             0             0   0.0                 164  \n",
       "2             0             0   0.0                  80  \n",
       "3             0             0   1.0                1777  \n",
       "4             0             0   0.0                 393  \n",
       "\n",
       "[5 rows x 59 columns]"
      ]
     },
     "execution_count": 10,
     "metadata": {},
     "output_type": "execute_result"
    }
   ],
   "source": [
    "#combine all our data back together\n",
    "df = pd.concat([standard_df, dummy_df, df[['paid', 'total_interactions']]], axis=1)\n",
    "df.head()"
   ]
  },
  {
   "cell_type": "code",
   "execution_count": 11,
   "id": "693dd392",
   "metadata": {},
   "outputs": [
    {
     "data": {
      "text/plain": [
       "(495, 59)"
      ]
     },
     "execution_count": 11,
     "metadata": {},
     "output_type": "execute_result"
    }
   ],
   "source": [
    "df.shape"
   ]
  },
  {
   "cell_type": "code",
   "execution_count": 12,
   "id": "bedffe39",
   "metadata": {},
   "outputs": [
    {
     "data": {
      "text/plain": [
       "Index(['total_likes', 'lifetime_reach', 'lifetime_impressions',\n",
       "       'lifetime_engaged_users', 'lifetime_consumers', 'lifetime_consumptions',\n",
       "       'impressions_by_likers', 'reach_by_likers', 'likers_who_engaged',\n",
       "       'type_Link', 'type_Photo', 'type_Status', 'type_Video', 'category_1',\n",
       "       'category_2', 'category_3', 'post_month_1', 'post_month_2',\n",
       "       'post_month_3', 'post_month_4', 'post_month_5', 'post_month_6',\n",
       "       'post_month_7', 'post_month_8', 'post_month_9', 'post_month_10',\n",
       "       'post_month_11', 'post_month_12', 'post_weekday_1', 'post_weekday_2',\n",
       "       'post_weekday_3', 'post_weekday_4', 'post_weekday_5', 'post_weekday_6',\n",
       "       'post_weekday_7', 'post_hour_1', 'post_hour_2', 'post_hour_3',\n",
       "       'post_hour_4', 'post_hour_5', 'post_hour_6', 'post_hour_7',\n",
       "       'post_hour_8', 'post_hour_9', 'post_hour_10', 'post_hour_11',\n",
       "       'post_hour_12', 'post_hour_13', 'post_hour_14', 'post_hour_15',\n",
       "       'post_hour_16', 'post_hour_17', 'post_hour_18', 'post_hour_19',\n",
       "       'post_hour_20', 'post_hour_22', 'post_hour_23', 'paid',\n",
       "       'total_interactions'],\n",
       "      dtype='object')"
      ]
     },
     "execution_count": 12,
     "metadata": {},
     "output_type": "execute_result"
    }
   ],
   "source": [
    "df.columns"
   ]
  },
  {
   "cell_type": "markdown",
   "id": "37353750",
   "metadata": {},
   "source": [
    "Next we will split our data into training, testing and validation sets. We have 495 rows to work with so we will aim at having a split of 60-20-20 percent for our corresponding training, testing and validation sets. "
   ]
  },
  {
   "cell_type": "code",
   "execution_count": 13,
   "id": "1b26d478",
   "metadata": {},
   "outputs": [],
   "source": [
    "#separate our features and target variable\n",
    "X = df.drop('total_interactions', axis=1)\n",
    "y = df['total_interactions']"
   ]
  },
  {
   "cell_type": "code",
   "execution_count": 14,
   "id": "e70994eb",
   "metadata": {},
   "outputs": [],
   "source": [
    "#create our 60-20-20 split of our data\n",
    "X, X_test, y, y_test = train_test_split(X, y, test_size=0.2, random_state=8)\n",
    "X_train, X_val, y_train, y_val = train_test_split(X, y, test_size=0.25, random_state=8)"
   ]
  },
  {
   "cell_type": "code",
   "execution_count": 15,
   "id": "b61453ba",
   "metadata": {},
   "outputs": [
    {
     "name": "stdout",
     "output_type": "stream",
     "text": [
      "Training set percent:  0.6\n",
      "Testing set percent:  0.2\n",
      "Validation set percent:  0.2\n"
     ]
    }
   ],
   "source": [
    "#assert that our splits follow 60-20-20\n",
    "print('Training set percent: ', X_train.shape[0] / df.shape[0])\n",
    "print('Testing set percent: ', X_test.shape[0] / df.shape[0])\n",
    "print('Validation set percent: ', X_val.shape[0] / df.shape[0])"
   ]
  },
  {
   "cell_type": "code",
   "execution_count": 16,
   "id": "e7652d36",
   "metadata": {},
   "outputs": [],
   "source": [
    "#dictionary that will be used to store our testing results\n",
    "results = {}"
   ]
  },
  {
   "cell_type": "markdown",
   "id": "c4b3a3c0",
   "metadata": {},
   "source": [
    "## Establishing A Baseline\n",
    "\n",
    "Now that we have our dummy variables as well as our training, testing and validation sets we are ready to begin building our regression models.\n",
    "\n",
    "Since the purpose of project is to evaluate the important attributes using a linear regression model we must first create a baseline. The purpose of our baseline would be to compare how our future models with less attributes compare to a model with all the attributes present. \n",
    "\n",
    "The baseline model for this project will be a simple Ordinary Least Square Linear Regression model from `sklearn` using all the available features. We will evaluate all our models using Mean Absolute Error (MAE)."
   ]
  },
  {
   "cell_type": "code",
   "execution_count": 17,
   "id": "7036eee8",
   "metadata": {},
   "outputs": [
    {
     "data": {
      "text/plain": [
       "LinearRegression()"
      ]
     },
     "execution_count": 17,
     "metadata": {},
     "output_type": "execute_result"
    }
   ],
   "source": [
    "#used to store test results\n",
    "results['baseline_reg'] = {}\n",
    "\n",
    "#creating our baseline Linear Regression Model\n",
    "baseline_reg = linear_model.LinearRegression()\n",
    "baseline_reg.fit(X_train, y_train)"
   ]
  },
  {
   "cell_type": "code",
   "execution_count": 18,
   "id": "a0170f30",
   "metadata": {},
   "outputs": [],
   "source": [
    "#evaluating our baseline regression model on training data\n",
    "results['baseline_reg']['train_mae'] = mean_absolute_error(y_train, baseline_reg.predict(X_train))"
   ]
  },
  {
   "cell_type": "code",
   "execution_count": 19,
   "id": "e5ebc606",
   "metadata": {},
   "outputs": [],
   "source": [
    "#evaluating our baseline regression model on test data\n",
    "results['baseline_reg']['test_mae'] = mean_absolute_error(y_test, baseline_reg.predict(X_test))"
   ]
  },
  {
   "cell_type": "code",
   "execution_count": 20,
   "id": "1dac7dfa",
   "metadata": {},
   "outputs": [
    {
     "data": {
      "text/plain": [
       "{'train_mae': 35.21303458845312, 'test_mae': 32.74318852260635}"
      ]
     },
     "execution_count": 20,
     "metadata": {},
     "output_type": "execute_result"
    }
   ],
   "source": [
    "#see our results\n",
    "results['baseline_reg']"
   ]
  },
  {
   "cell_type": "markdown",
   "id": "4f9dacc7",
   "metadata": {},
   "source": [
    "As we can see from our results above we have established a pretty good baseline. Our Ordinary Least Squares Linear Regression model using all the features has produced a training MAE of about 35.2 and a test set MAE of about 32.7, which is a really good starting point.\n",
    "\n",
    "## PCA Attempt\n",
    "\n",
    "For our next steps we will begin incorporating dimensionality reduction techniques along with other regression models to see if we can decrease our mean absolute error using simplified versions of our data. "
   ]
  },
  {
   "cell_type": "code",
   "execution_count": 21,
   "id": "b612e0ff",
   "metadata": {},
   "outputs": [],
   "source": [
    "var_ratio = []\n",
    "#principal component analysis on features\n",
    "for num in np.arange(X.shape[1]):\n",
    "    pca = PCA(n_components=num)\n",
    "    pca.fit(X_train)\n",
    "    var_ratio.append(np.sum(pca.explained_variance_ratio_))"
   ]
  },
  {
   "cell_type": "code",
   "execution_count": 22,
   "id": "c55d90db",
   "metadata": {},
   "outputs": [
    {
     "data": {
      "text/plain": [
       "Text(0.5, 1.0, 'n_components vs. Explained Variance Ratio')"
      ]
     },
     "execution_count": 22,
     "metadata": {},
     "output_type": "execute_result"
    },
    {
     "data": {
      "image/png": "[encoded data removed]",
      "text/plain": [
       "<Figure size 1080x720 with 1 Axes>"
      ]
     },
     "metadata": {
      "needs_background": "light"
     },
     "output_type": "display_data"
    }
   ],
   "source": [
    "#plot the findings of our PCA\n",
    "plt.figure(figsize=(15, 10))\n",
    "plt.grid()\n",
    "plt.plot(np.arange(X.shape[1]), var_ratio, marker='o')\n",
    "plt.axvline(x=8, color='red')\n",
    "plt.xlabel('n_components')\n",
    "plt.ylabel('Explained variance ratio')\n",
    "plt.title('n_components vs. Explained Variance Ratio')"
   ]
  },
  {
   "cell_type": "markdown",
   "id": "6e22a219",
   "metadata": {},
   "source": [
    "Performing our principal component analysis we find that the point of dimishing returns seems to be around 8 components. The graph above shows us that 8 features account for 80% of explained variance in our dataset. The explained variance slightly increases as we move from 8 components to the full 58 components. \n",
    "\n",
    "Lets create another Linear Regression model using only our 8 principal components to see how it compares to our baseline. "
   ]
  },
  {
   "cell_type": "code",
   "execution_count": 23,
   "id": "41f6294c",
   "metadata": {},
   "outputs": [],
   "source": [
    "#build a pca using 8 components\n",
    "optimal_pca = PCA(n_components=8)"
   ]
  },
  {
   "cell_type": "code",
   "execution_count": 24,
   "id": "6d4f0329",
   "metadata": {},
   "outputs": [],
   "source": [
    "#build our pca training and testing sets\n",
    "X_train_pca = optimal_pca.fit_transform(X_train)\n",
    "X_test_pca = optimal_pca.transform(X_test)"
   ]
  },
  {
   "cell_type": "code",
   "execution_count": 25,
   "id": "5a194b8e",
   "metadata": {},
   "outputs": [
    {
     "data": {
      "text/plain": [
       "LinearRegression()"
      ]
     },
     "execution_count": 25,
     "metadata": {},
     "output_type": "execute_result"
    }
   ],
   "source": [
    "#used to store test results\n",
    "results['pca_reg'] = {}\n",
    "\n",
    "#creating our pca regression model\n",
    "pca_reg = linear_model.LinearRegression()\n",
    "pca_reg.fit(X_train_pca, y_train)"
   ]
  },
  {
   "cell_type": "code",
   "execution_count": 26,
   "id": "2e823edf",
   "metadata": {},
   "outputs": [],
   "source": [
    "#evaluating our pca model on the training data\n",
    "results['pca_reg']['train_mae'] = mean_absolute_error(y_train, pca_reg.predict(X_train_pca))"
   ]
  },
  {
   "cell_type": "code",
   "execution_count": 27,
   "id": "c10bda57",
   "metadata": {},
   "outputs": [],
   "source": [
    "#evaluating our pca model on the test data\n",
    "results['pca_reg']['test_mae'] = mean_absolute_error(y_test, pca_reg.predict(X_test_pca))"
   ]
  },
  {
   "cell_type": "code",
   "execution_count": 28,
   "id": "fa2cee7d",
   "metadata": {},
   "outputs": [
    {
     "data": {
      "text/plain": [
       "{'train_mae': 117.25145757318911, 'test_mae': 75.90347915888034}"
      ]
     },
     "execution_count": 28,
     "metadata": {},
     "output_type": "execute_result"
    }
   ],
   "source": [
    "#see our pca results\n",
    "results['pca_reg']"
   ]
  },
  {
   "cell_type": "markdown",
   "id": "0da6c688",
   "metadata": {},
   "source": [
    "As we can see from our mean absolute error results for our pca regression model, we did worse than our baseline model. Although we chose some of the variables that accounted for most of the variance in our dataset our linear regression model did not perform. This can be due to the fact that principal component analysis eliminates multicollinearity between features. This means that when we perform PCA we are combining our highly correlated variables into a set of uncorrelated variables. It is important to note that this is strictly for our features, PCA does not evaluate the correlation between features and our target variable it is strictly dealing with collinearity.\n",
    "\n",
    "We can conclude that our first attempt at improving our mean absolute error using our first dimensionality reduction technique of principal component analysis was a failure. \n",
    "\n",
    "## Lasso Regression & Feature Selection\n",
    "\n",
    "In this final attempt of improving our mean absolute error score we turn to Lasso Regression. LASSO stands for Least Absolute Shrinkage and Selection Operator and is a regularization technique that adds a penalty term which forces some coefficients to be exactly zero. This means that through our regression model we can perform some feature selection by selecting those features whose coefficients are not zero."
   ]
  },
  {
   "cell_type": "code",
   "execution_count": 29,
   "id": "9399fbb3",
   "metadata": {},
   "outputs": [],
   "source": [
    "#building our lasso regression model\n",
    "lasso_reg = linear_model.LassoCV(cv=5).fit(X_train, y_train)"
   ]
  },
  {
   "cell_type": "code",
   "execution_count": 30,
   "id": "5524c25e",
   "metadata": {},
   "outputs": [],
   "source": [
    "#view our results\n",
    "results['lasso_reg'] = {}\n",
    "\n",
    "#evaluating our lasso model on the training data\n",
    "results['lasso_reg']['train_mae'] = mean_absolute_error(y_train, lasso_reg.predict(X_train))\n",
    "#evaluating our lasso model on the test data\n",
    "results['lasso_reg']['test_mae'] = mean_absolute_error(y_test, lasso_reg.predict(X_test))"
   ]
  },
  {
   "cell_type": "code",
   "execution_count": 31,
   "id": "9a919315",
   "metadata": {},
   "outputs": [
    {
     "data": {
      "text/plain": [
       "{'train_mae': 37.07270201521414, 'test_mae': 29.961926243876075}"
      ]
     },
     "execution_count": 31,
     "metadata": {},
     "output_type": "execute_result"
    }
   ],
   "source": [
    "results['lasso_reg']"
   ]
  },
  {
   "cell_type": "markdown",
   "id": "ac7abc6d",
   "metadata": {},
   "source": [
    "With our Lasso regression model we did only slightly worse on our training MAE but improved on our test MAE. We also did this using a smaller amount of features than with our baseline regression model. Lets that a look at some of the features our model chose. "
   ]
  },
  {
   "cell_type": "code",
   "execution_count": 32,
   "id": "56235527",
   "metadata": {},
   "outputs": [
    {
     "data": {
      "text/plain": [
       "20"
      ]
     },
     "execution_count": 32,
     "metadata": {},
     "output_type": "execute_result"
    }
   ],
   "source": [
    "#how many features have nonzero coefficients\n",
    "np.count_nonzero(lasso_reg.coef_)"
   ]
  },
  {
   "cell_type": "code",
   "execution_count": 33,
   "id": "1b941384",
   "metadata": {},
   "outputs": [],
   "source": [
    "#find the column names of our nonzero columns and their coefficients\n",
    "values = []\n",
    "for idx,  coeff in enumerate(lasso_reg.coef_):\n",
    "    if coeff != 0:\n",
    "        values.append([X_train.columns[idx], coeff])"
   ]
  },
  {
   "cell_type": "code",
   "execution_count": 34,
   "id": "7653f7b2",
   "metadata": {},
   "outputs": [
    {
     "data": {
      "text/html": [
       "<div>\n",
       "<style scoped>\n",
       "    .dataframe tbody tr th:only-of-type {\n",
       "        vertical-align: middle;\n",
       "    }\n",
       "\n",
       "    .dataframe tbody tr th {\n",
       "        vertical-align: top;\n",
       "    }\n",
       "\n",
       "    .dataframe thead th {\n",
       "        text-align: right;\n",
       "    }\n",
       "</style>\n",
       "<table border=\"1\" class=\"dataframe\">\n",
       "  <thead>\n",
       "    <tr style=\"text-align: right;\">\n",
       "      <th></th>\n",
       "      <th>column_name</th>\n",
       "      <th>coefficient</th>\n",
       "    </tr>\n",
       "  </thead>\n",
       "  <tbody>\n",
       "    <tr>\n",
       "      <th>2</th>\n",
       "      <td>lifetime_consumers</td>\n",
       "      <td>-1016.892696</td>\n",
       "    </tr>\n",
       "    <tr>\n",
       "      <th>7</th>\n",
       "      <td>type_Status</td>\n",
       "      <td>-41.594731</td>\n",
       "    </tr>\n",
       "    <tr>\n",
       "      <th>8</th>\n",
       "      <td>category_1</td>\n",
       "      <td>-33.140026</td>\n",
       "    </tr>\n",
       "    <tr>\n",
       "      <th>13</th>\n",
       "      <td>post_month_12</td>\n",
       "      <td>-14.418942</td>\n",
       "    </tr>\n",
       "    <tr>\n",
       "      <th>11</th>\n",
       "      <td>post_month_6</td>\n",
       "      <td>-8.053808</td>\n",
       "    </tr>\n",
       "    <tr>\n",
       "      <th>15</th>\n",
       "      <td>post_weekday_7</td>\n",
       "      <td>-6.017957</td>\n",
       "    </tr>\n",
       "    <tr>\n",
       "      <th>17</th>\n",
       "      <td>post_hour_10</td>\n",
       "      <td>-5.340368</td>\n",
       "    </tr>\n",
       "    <tr>\n",
       "      <th>0</th>\n",
       "      <td>total_likes</td>\n",
       "      <td>-4.764505</td>\n",
       "    </tr>\n",
       "    <tr>\n",
       "      <th>19</th>\n",
       "      <td>paid</td>\n",
       "      <td>1.743135</td>\n",
       "    </tr>\n",
       "    <tr>\n",
       "      <th>10</th>\n",
       "      <td>post_month_5</td>\n",
       "      <td>2.837544</td>\n",
       "    </tr>\n",
       "    <tr>\n",
       "      <th>18</th>\n",
       "      <td>post_hour_13</td>\n",
       "      <td>3.896186</td>\n",
       "    </tr>\n",
       "    <tr>\n",
       "      <th>4</th>\n",
       "      <td>impressions_by_likers</td>\n",
       "      <td>4.425132</td>\n",
       "    </tr>\n",
       "    <tr>\n",
       "      <th>5</th>\n",
       "      <td>reach_by_likers</td>\n",
       "      <td>5.979813</td>\n",
       "    </tr>\n",
       "    <tr>\n",
       "      <th>16</th>\n",
       "      <td>post_hour_2</td>\n",
       "      <td>6.066784</td>\n",
       "    </tr>\n",
       "    <tr>\n",
       "      <th>14</th>\n",
       "      <td>post_weekday_4</td>\n",
       "      <td>6.837937</td>\n",
       "    </tr>\n",
       "    <tr>\n",
       "      <th>3</th>\n",
       "      <td>lifetime_consumptions</td>\n",
       "      <td>9.693262</td>\n",
       "    </tr>\n",
       "    <tr>\n",
       "      <th>9</th>\n",
       "      <td>post_month_2</td>\n",
       "      <td>10.709807</td>\n",
       "    </tr>\n",
       "    <tr>\n",
       "      <th>12</th>\n",
       "      <td>post_month_10</td>\n",
       "      <td>15.898255</td>\n",
       "    </tr>\n",
       "    <tr>\n",
       "      <th>6</th>\n",
       "      <td>likers_who_engaged</td>\n",
       "      <td>38.535424</td>\n",
       "    </tr>\n",
       "    <tr>\n",
       "      <th>1</th>\n",
       "      <td>lifetime_engaged_users</td>\n",
       "      <td>1134.894596</td>\n",
       "    </tr>\n",
       "  </tbody>\n",
       "</table>\n",
       "</div>"
      ],
      "text/plain": [
       "               column_name  coefficient\n",
       "2       lifetime_consumers -1016.892696\n",
       "7              type_Status   -41.594731\n",
       "8               category_1   -33.140026\n",
       "13           post_month_12   -14.418942\n",
       "11            post_month_6    -8.053808\n",
       "15          post_weekday_7    -6.017957\n",
       "17            post_hour_10    -5.340368\n",
       "0              total_likes    -4.764505\n",
       "19                    paid     1.743135\n",
       "10            post_month_5     2.837544\n",
       "18            post_hour_13     3.896186\n",
       "4    impressions_by_likers     4.425132\n",
       "5          reach_by_likers     5.979813\n",
       "16             post_hour_2     6.066784\n",
       "14          post_weekday_4     6.837937\n",
       "3    lifetime_consumptions     9.693262\n",
       "9             post_month_2    10.709807\n",
       "12           post_month_10    15.898255\n",
       "6       likers_who_engaged    38.535424\n",
       "1   lifetime_engaged_users  1134.894596"
      ]
     },
     "execution_count": 34,
     "metadata": {},
     "output_type": "execute_result"
    }
   ],
   "source": [
    "pd.DataFrame(values, columns=['column_name', 'coefficient']).sort_values(by='coefficient')"
   ]
  },
  {
   "cell_type": "markdown",
   "id": "cd95c8ea",
   "metadata": {},
   "source": [
    "## Conclusion\n",
    "\n",
    "Using an ordinary least squares regression model as our baseline we compared two different approaches of dimensionality reduction. \n",
    "\n",
    "The first approach of Principal Component Analysis proved to be a failure. Initially PCA seemed to be a great idea due to the fact that from our EDA analysis we observed how our features were mostly correlated with each other. The initial idea was to use PCA to remove the multicollinearity while still capturing most of the variance present in our dataset. \n",
    "\n",
    "The second approach was using Lasso regression as a form of feature selection. This is because since Lasso regression reduces the coefficients of some features down to zero we can essentially view this as a form of selecting only those features that have a significant impact on the target variable. Through this we found that the features `lifetime_engaged_users` and `lifetime_consumers` had the largest coefficients while the feature `paid` was closest to zero.  "
   ]
  },
  {
   "cell_type": "code",
   "execution_count": 35,
   "id": "773f16fc",
   "metadata": {},
   "outputs": [
    {
     "data": {
      "text/html": [
       "<div>\n",
       "<style scoped>\n",
       "    .dataframe tbody tr th:only-of-type {\n",
       "        vertical-align: middle;\n",
       "    }\n",
       "\n",
       "    .dataframe tbody tr th {\n",
       "        vertical-align: top;\n",
       "    }\n",
       "\n",
       "    .dataframe thead th {\n",
       "        text-align: right;\n",
       "    }\n",
       "</style>\n",
       "<table border=\"1\" class=\"dataframe\">\n",
       "  <thead>\n",
       "    <tr style=\"text-align: right;\">\n",
       "      <th></th>\n",
       "      <th>baseline_reg</th>\n",
       "      <th>pca_reg</th>\n",
       "      <th>lasso_reg</th>\n",
       "    </tr>\n",
       "  </thead>\n",
       "  <tbody>\n",
       "    <tr>\n",
       "      <th>train_mae</th>\n",
       "      <td>35.213035</td>\n",
       "      <td>117.251458</td>\n",
       "      <td>37.072702</td>\n",
       "    </tr>\n",
       "    <tr>\n",
       "      <th>test_mae</th>\n",
       "      <td>32.743189</td>\n",
       "      <td>75.903479</td>\n",
       "      <td>29.961926</td>\n",
       "    </tr>\n",
       "  </tbody>\n",
       "</table>\n",
       "</div>"
      ],
      "text/plain": [
       "           baseline_reg     pca_reg  lasso_reg\n",
       "train_mae     35.213035  117.251458  37.072702\n",
       "test_mae      32.743189   75.903479  29.961926"
      ]
     },
     "execution_count": 35,
     "metadata": {},
     "output_type": "execute_result"
    }
   ],
   "source": [
    "#results into a dataframe\n",
    "pd.DataFrame(results)"
   ]
  },
  {
   "cell_type": "code",
   "execution_count": 36,
   "id": "975efad7",
   "metadata": {},
   "outputs": [],
   "source": [
    "#best model on validation data\n",
    "validate_mae = mean_absolute_error(y_val, lasso_reg.predict(X_val))"
   ]
  },
  {
   "cell_type": "code",
   "execution_count": 37,
   "id": "896f2610",
   "metadata": {},
   "outputs": [
    {
     "name": "stdout",
     "output_type": "stream",
     "text": [
      "The Mean Absolute Error of our best model on our validation data is: 53.12462904881559\n"
     ]
    }
   ],
   "source": [
    "print('The Mean Absolute Error of our best model on our validation data is:', validate_mae)"
   ]
  },
  {
   "cell_type": "markdown",
   "id": "67937347",
   "metadata": {},
   "source": [
    "## For The Future \n",
    "\n",
    "As we can see above our best model was the Lasso regression model. Although this model performed well on our training and testing sets, it did not perform as expected on our validation data. There is a large amount of variation between our training, testing and validation MAE for our Lasso model. This shows us that we are not fully capturing the trends within our data. In the future it could be even more useful to build a better model that fully captures our data, this model should have MAE outputs with a higher precision meaning our MAE have lower variance than what we have seen in this project. "
   ]
  }
 ],
 "metadata": {
  "kernelspec": {
   "display_name": "Python 3",
   "language": "python",
   "name": "python3"
  },
  "language_info": {
   "codemirror_mode": {
    "name": "ipython",
    "version": 3
   },
   "file_extension": ".py",
   "mimetype": "text/x-python",
   "name": "python",
   "nbconvert_exporter": "python",
   "pygments_lexer": "ipython3",
   "version": "3.8.5"
  }
 },
 "nbformat": 4,
 "nbformat_minor": 5
}
